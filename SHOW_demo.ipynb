{
  "cells": [
    {
      "cell_type": "code",
      "execution_count": null,
      "metadata": {
        "colab": {
          "base_uri": "https://localhost:8080/"
        },
        "id": "JQBzL7WTdYKC",
        "outputId": "21eba687-95fd-4192-b58e-dee2c1029f8a"
      },
      "outputs": [],
      "source": [
        "!pip install -q gwpy"
      ]
    },
    {
      "cell_type": "code",
      "execution_count": null,
      "metadata": {
        "id": "Vx-Vk7S_dF0H"
      },
      "outputs": [],
      "source": [
        "# if you are running on local machine, skip this step\n",
        "!curl -LO https://github.com/open-mmlab/mmcv/archive/refs/tags/v1.6.0.tar.gz\n",
        "!tar xzf v1.6.0.tar.gz\n",
        "%cd mmcv-1.6.0\n",
        "!pip install -r requirements/optional.txt\n",
        "!MMCV_WITH_OPS=1 pip install -e . -v"
      ]
    },
    {
      "cell_type": "code",
      "execution_count": null,
      "metadata": {
        "id": "Rd6Gxfj3s5FU"
      },
      "outputs": [],
      "source": [
        "%%capture\n",
        "!git clone https://github.com/open-mmlab/mmdetection\n",
        "!cd /content/mmdetection && python setup.py install\n",
        "!git clone https://github.com/open-mmlab/mmpose\n",
        "!cd /content/mmpose && python setup.py install\n",
        "!export mmpose_root = /content/mmpose"
      ]
    },
    {
      "cell_type": "code",
      "execution_count": null,
      "metadata": {
        "id": "6qxwz7jrORsM"
      },
      "outputs": [],
      "source": [
        "%%capture\n",
        "!git clone https://github.com/yhw-yhw/SHOW.git\n",
        "!wget https://www.dropbox.com/s/gqdcu51ilo44k3i/models.zip?dl=0 -O models.zip\n",
        "!wget https://www.dropbox.com/s/r14bl9mhvngohla/data.zip?dl=0 -O data.zip\n",
        "!unzip data.zip\n",
        "!7za x models.zip"
      ]
    },
    {
      "cell_type": "code",
      "execution_count": null,
      "metadata": {
        "id": "_Pu-qnq3gBfA"
      },
      "outputs": [],
      "source": [
        "%%capture\n",
        "!cd /content/SHOW/modules/MICA && pip install -r requirements.txt\n",
        "!cd /content/SHOW/modules/PIXIE && pip install -r requirements.txt\n",
        "!cd /content/SHOW/modules/PyMAF && pip install -r requirements.txt\n",
        "!cd /content/SHOW/modules/DECA && pip install -r requirements.txt\n",
        "!cd /content/SHOW && pip install -r requirements.txt\n",
        "!pip uninstall -y xtcocotools && pip install xtcocotools --no-binary xtcocotools"
      ]
    },
    {
      "cell_type": "code",
      "execution_count": null,
      "metadata": {
        "id": "m6NhsC33shky"
      },
      "outputs": [],
      "source": [
        "%%capture\n",
        "import os\n",
        "import sys\n",
        "import torch\n",
        "need_pytorch3d=False\n",
        "try:\n",
        "    import pytorch3d\n",
        "except ModuleNotFoundError:\n",
        "    need_pytorch3d=True\n",
        "if need_pytorch3d:\n",
        "    if torch.__version__.startswith(\"1.13.\") and sys.platform.startswith(\"linux\"):\n",
        "        # We try to install PyTorch3D via a released wheel.\n",
        "        pyt_version_str=torch.__version__.split(\"+\")[0].replace(\".\", \"\")\n",
        "        version_str=\"\".join([\n",
        "            f\"py3{sys.version_info.minor}_cu\",\n",
        "            torch.version.cuda.replace(\".\",\"\"),\n",
        "            f\"_pyt{pyt_version_str}\"\n",
        "        ])\n",
        "        !pip install fvcore iopath\n",
        "        !pip install --no-index --no-cache-dir pytorch3d -f https://dl.fbaipublicfiles.com/pytorch3d/packaging/wheels/{version_str}/download.html\n",
        "    else:\n",
        "        # We try to install PyTorch3D from source.\n",
        "        !curl -LO https://github.com/NVIDIA/cub/archive/1.10.0.tar.gz\n",
        "        !tar xzf 1.10.0.tar.gz\n",
        "        os.environ[\"CUB_HOME\"] = os.getcwd() + \"/cub-1.10.0\"\n",
        "        !pip install 'git+https://github.com/facebookresearch/pytorch3d.git@stable'"
      ]
    },
    {
      "cell_type": "code",
      "execution_count": null,
      "metadata": {
        "id": "8Jci8Eqs0Wxq"
      },
      "outputs": [],
      "source": [
        "%%capture\n",
        "import os\n",
        "from os.path import exists, join, basename, splitext\n",
        "\n",
        "git_repo_url = 'https://github.com/CMU-Perceptual-Computing-Lab/openpose.git'\n",
        "project_name = splitext(basename(git_repo_url))[0]\n",
        "if not exists(project_name):\n",
        "  # see: https://github.com/CMU-Perceptual-Computing-Lab/openpose/issues/949\n",
        "  # install new CMake becaue of CUDA10\n",
        "  !wget -q https://cmake.org/files/v3.13/cmake-3.13.0-Linux-x86_64.tar.gz\n",
        "  !tar xfz cmake-3.13.0-Linux-x86_64.tar.gz --strip-components=1 -C /usr/local\n",
        "\n",
        "  # clone openpose\n",
        "  !git clone -q --depth 1 $git_repo_url\n",
        "  # download models\n",
        "  !wget -O /content/openpose/models/hand/pose_iter_102000.caffemodel https://polybox.ethz.ch/index.php/s/Oim76cuqrDVbdxm/download\n",
        "  !wget -O /content/openpose/models/pose/body_25/pose_iter_584000.caffemodel https://polybox.ethz.ch/index.php/s/m5NQAhd7ukVPRoL/download\n",
        "  !wget -O /content/openpose/models/face/pose_iter_116000.caffemodel https://polybox.ethz.ch/index.php/s/cEaF1FTpKjjJZbH/download\n",
        "  !sed -i 's/execute_process(COMMAND git checkout master WORKING_DIRECTORY ${CMAKE_SOURCE_DIR}\\/3rdparty\\/caffe)/execute_process(COMMAND git checkout f019d0dfe86f49d1140961f8c7dec22130c83154 WORKING_DIRECTORY ${CMAKE_SOURCE_DIR}\\/3rdparty\\/caffe)/g' openpose/CMakeLists.txt\n",
        "  # install system dependencies\n",
        "  !apt-get -qq install -y libatlas-base-dev libprotobuf-dev libleveldb-dev libsnappy-dev libhdf5-serial-dev protobuf-compiler libgflags-dev libgoogle-glog-dev liblmdb-dev opencl-headers ocl-icd-opencl-dev libviennacl-dev\n",
        "  # install python dependencies\n",
        "  !pip install -q youtube-dl\n",
        "  # build openpose\n",
        "  !cd openpose && rm -rf build || true && mkdir build && cd build && cmake .. -DUSE_CUDNN=OFF && make -j`nproc`\n"
      ]
    },
    {
      "cell_type": "code",
      "execution_count": null,
      "metadata": {
        "colab": {
          "base_uri": "https://localhost:8080/"
        },
        "id": "rQHzIiw8biUy",
        "outputId": "bbf69601-a9a8-4013-8618-a23732ea1b79"
      },
      "outputs": [],
      "source": [
        "!cd /content/SHOW && python main.py --speaker_name -1 --all_top_dir ./test/demo_video/half.mp4"
      ]
    }
  ],
  "metadata": {
    "accelerator": "GPU",
    "colab": {
      "provenance": [],
      "toc_visible": true
    },
    "gpuClass": "standard",
    "kernelspec": {
      "display_name": "my_torch39",
      "language": "python",
      "name": "python3"
    },
    "language_info": {
      "name": "python",
      "version": "3.9.12"
    },
    "vscode": {
      "interpreter": {
        "hash": "bf56b89bcada81c2a71943ee007ada908de7a5f929fa45a89c2c78757211229f"
      }
    }
  },
  "nbformat": 4,
  "nbformat_minor": 0
}
